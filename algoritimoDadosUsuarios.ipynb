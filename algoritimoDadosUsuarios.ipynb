{
  "nbformat": 4,
  "nbformat_minor": 0,
  "metadata": {
    "colab": {
      "provenance": [],
      "authorship_tag": "ABX9TyOz4TICAo7ShYdR/2yA7jjI",
      "include_colab_link": true
    },
    "kernelspec": {
      "name": "python3",
      "display_name": "Python 3"
    },
    "language_info": {
      "name": "python"
    }
  },
  "cells": [
    {
      "cell_type": "markdown",
      "metadata": {
        "id": "view-in-github",
        "colab_type": "text"
      },
      "source": [
        "<a href=\"https://colab.research.google.com/github/elimadasilva/idade/blob/main/algoritimoDadosUsuarios.ipynb\" target=\"_parent\"><img src=\"https://colab.research.google.com/assets/colab-badge.svg\" alt=\"Open In Colab\"/></a>"
      ]
    },
    {
      "cell_type": "code",
      "execution_count": 37,
      "metadata": {
        "colab": {
          "base_uri": "https://localhost:8080/"
        },
        "id": "hnPZbhnkqqBZ",
        "outputId": "a6314f16-91cd-487b-f5ea-82fbbd3d0208"
      },
      "outputs": [
        {
          "output_type": "stream",
          "name": "stdout",
          "text": [
            "Digite o seu nome completo:\n",
            "\n",
            "eee\n",
            "Insira um ano de nascimento que seja entre 1922 e 2021\n",
            "wwwww\n",
            "Caracter inválido, por favor digite somente números!\n",
            "\n",
            "Insira um ano de nascimento que seja entre 1922 e 2021\n",
            "13333\n",
            "ANO INVÁLIDO!\n",
            "\n",
            "Insira um ano de nascimento que seja entre 1922 e 2021\n",
            "Caracter inválido, por favor digite somente números!\n",
            "\n",
            "Insira um ano de nascimento que seja entre 1922 e 2021\n",
            "1978\n",
            "Seu nome é: eee \n",
            "\n",
            "Sua idade é: 45 anos\n",
            "\n"
          ]
        }
      ],
      "source": [
        "#Desenvolva um programa que recebe do usuário nome completo e ano de nascimento que seja entre 1922 e 2021.\n",
        "#A partir dessas informações, o sistema mostrará o nome do usuário e a idade que completou,\n",
        "#ou completará, no ano atual (2022).\n",
        "\n",
        "#Caso o usuário não digite um número ou apareça um inválido no campo do ano,\n",
        "#o sistema informará o erro e continuará perguntando até que um valor correto seja preenchido.\n",
        "\n",
        "#Importação de biblioteca\n",
        "import datetime\n",
        "\n",
        "#função\n",
        "def calculaIdade(ano):\n",
        "  anoAtual = datetime.date.today().year\n",
        "  idade = anoAtual - ano\n",
        "  return idade\n",
        "\n",
        "#Main\n",
        "print(\"Digite o seu nome completo:\\n\")\n",
        "nome = str(input())\n",
        "anoCorreto = False\n",
        "\n",
        "while (anoCorreto == False):\n",
        "\n",
        "  print(\"Insira um ano de nascimento que seja entre 1922 e 2021\")\n",
        "\n",
        "  try:\n",
        "\n",
        "      numero = int(input())\n",
        "\n",
        "      if ((numero>=1922) and (numero<=2021)):\n",
        "\n",
        "        anoCorreto = True\n",
        "        idade = int(calculaIdade(numero))\n",
        "        print(\"Seu nome é:\" , nome, \"\\n\")\n",
        "        print(\"Sua idade é:\", idade , \"anos\\n\")\n",
        "\n",
        "      else :\n",
        "        print(\"ANO INVÁLIDO!\\n\")\n",
        "\n",
        "  except:\n",
        "\n",
        "       print(\"Caracter inválido, por favor digite somente números!\\n\")\n",
        "#endMain"
      ]
    },
    {
      "cell_type": "code",
      "source": [
        "import datetime\n",
        "ano = datetime.date.today().year\n",
        "print(ano)"
      ],
      "metadata": {
        "colab": {
          "base_uri": "https://localhost:8080/"
        },
        "id": "vhKl33B0BCVK",
        "outputId": "59bbd004-1df3-4531-f0f6-acf2e45937b4"
      },
      "execution_count": 30,
      "outputs": [
        {
          "output_type": "stream",
          "name": "stdout",
          "text": [
            "2023\n"
          ]
        }
      ]
    }
  ]
}